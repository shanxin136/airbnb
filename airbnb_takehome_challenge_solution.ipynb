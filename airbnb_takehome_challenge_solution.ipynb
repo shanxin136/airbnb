{
 "cells": [
  {
   "cell_type": "code",
   "execution_count": 1,
   "metadata": {
    "collapsed": false
   },
   "outputs": [
    {
     "data": {
      "text/html": [
       "<style>.container { width:95% !important; }</style>"
      ],
      "text/plain": [
       "<IPython.core.display.HTML object>"
      ]
     },
     "execution_count": 1,
     "metadata": {},
     "output_type": "execute_result"
    }
   ],
   "source": [
    "from IPython.core.display import HTML\n",
    "HTML(\"<style>.container { width:95% !important; }</style>\")"
   ]
  },
  {
   "cell_type": "code",
   "execution_count": 42,
   "metadata": {
    "collapsed": false
   },
   "outputs": [
    {
     "name": "stdout",
     "output_type": "stream",
     "text": [
      "The scikit-learn version is 0.19.1.\n",
      "The Python version is 3.5.2.\n"
     ]
    }
   ],
   "source": [
    "import sklearn\n",
    "print('The scikit-learn version is {}.'.format(sklearn.__version__))\n",
    "\n",
    "import platform\n",
    "print('The Python version is {}.'.format(platform.python_version()))"
   ]
  },
  {
   "cell_type": "code",
   "execution_count": 3,
   "metadata": {
    "collapsed": true
   },
   "outputs": [],
   "source": [
    "import numpy as np\n",
    "import pandas as pd\n",
    "pd.set_option('display.max_rows', 500)\n",
    "pd.set_option('display.max_columns', 500)\n",
    "\n",
    "import matplotlib.pyplot as plt\n",
    "%matplotlib inline\n",
    "plt.style.use('ggplot')\n",
    "import seaborn as sns\n",
    "sns.set(style=\"whitegrid\", color_codes=True)\n",
    "\n",
    "# import models \n",
    "from sklearn.ensemble import RandomForestClassifier\n",
    "from sklearn.linear_model import LogisticRegression, LogisticRegressionCV\n",
    "\n",
    "# preprocessing data\n",
    "from sklearn.preprocessing import Imputer, StandardScaler\n",
    "\n",
    "# use cross-validation\n",
    "from sklearn.model_selection import GridSearchCV, train_test_split\n",
    "\n",
    "# import peformance metrics \n",
    "from sklearn.metrics import f1_score, accuracy_score, confusion_matrix, mean_squared_error, r2_score, roc_curve, auc\n",
    "from sklearn.pipeline import Pipeline"
   ]
  },
  {
   "cell_type": "markdown",
   "metadata": {},
   "source": [
    "# 1. Feature exploration, engineering and cleaning\n",
    "* sanity check: analyze the given dataset for errors or possibly not accurate values within features and try to correct these values or exclude the samples containing the errors. One way to do this is to detect any outliers among our samples or features.\n",
    "* deal with missing data \n",
    "* design new features if possible (create new features based on an existing feature or a set of features) \n",
    "* encode any categorical features"
   ]
  },
  {
   "cell_type": "code",
   "execution_count": 4,
   "metadata": {
    "collapsed": false
   },
   "outputs": [
    {
     "data": {
      "text/html": [
       "<div>\n",
       "<style>\n",
       "    .dataframe thead tr:only-child th {\n",
       "        text-align: right;\n",
       "    }\n",
       "\n",
       "    .dataframe thead th {\n",
       "        text-align: left;\n",
       "    }\n",
       "\n",
       "    .dataframe tbody tr th {\n",
       "        vertical-align: top;\n",
       "    }\n",
       "</style>\n",
       "<table border=\"1\" class=\"dataframe\">\n",
       "  <thead>\n",
       "    <tr style=\"text-align: right;\">\n",
       "      <th></th>\n",
       "      <th>dim_is_requested</th>\n",
       "      <th>ds_night</th>\n",
       "      <th>ds</th>\n",
       "      <th>id_listing_anon</th>\n",
       "      <th>id_user_anon</th>\n",
       "      <th>m_effective_daily_price</th>\n",
       "      <th>m_pricing_cleaning_fee</th>\n",
       "      <th>dim_market</th>\n",
       "      <th>dim_lat</th>\n",
       "      <th>dim_lng</th>\n",
       "      <th>dim_room_type</th>\n",
       "      <th>dim_person_capacity</th>\n",
       "      <th>dim_is_instant_bookable</th>\n",
       "      <th>m_checkouts</th>\n",
       "      <th>m_reviews</th>\n",
       "      <th>days_since_last_booking</th>\n",
       "      <th>cancel_policy</th>\n",
       "      <th>image_quality_score</th>\n",
       "      <th>m_total_overall_rating</th>\n",
       "      <th>m_professional_pictures</th>\n",
       "      <th>dim_has_wireless_internet</th>\n",
       "      <th>ds_night_day_of_week</th>\n",
       "      <th>ds_night_day_of_year</th>\n",
       "      <th>ds_checkin_gap</th>\n",
       "      <th>ds_checkout_gap</th>\n",
       "      <th>occ_occupancy_plus_minus_7_ds_night</th>\n",
       "      <th>occ_occupancy_plus_minus_14_ds_night</th>\n",
       "      <th>occ_occupancy_trailing_90_ds</th>\n",
       "      <th>m_minimum_nights</th>\n",
       "      <th>m_maximum_nights</th>\n",
       "      <th>price_booked_most_recent</th>\n",
       "      <th>p2_p3_click_through_score</th>\n",
       "      <th>p3_inquiry_score</th>\n",
       "      <th>listing_m_listing_views_2_6_ds_night_decay</th>\n",
       "      <th>general_market_m_unique_searchers_0_6_ds_night</th>\n",
       "      <th>general_market_m_contacts_0_6_ds_night</th>\n",
       "      <th>general_market_m_reservation_requests_0_6_ds_night</th>\n",
       "      <th>general_market_m_is_booked_0_6_ds_night</th>\n",
       "      <th>m_available_listings_ds_night</th>\n",
       "      <th>kdt_score</th>\n",
       "      <th>r_kdt_listing_views_0_6_avg_n100</th>\n",
       "      <th>r_kdt_n_active_n100</th>\n",
       "      <th>r_kdt_n_available_n100</th>\n",
       "      <th>r_kdt_m_effective_daily_price_n100_p50</th>\n",
       "      <th>r_kdt_m_effective_daily_price_available_n100_p50</th>\n",
       "      <th>r_kdt_m_effective_daily_price_booked_n100_p50</th>\n",
       "    </tr>\n",
       "  </thead>\n",
       "  <tbody>\n",
       "    <tr>\n",
       "      <th>0</th>\n",
       "      <td>False</td>\n",
       "      <td>2015-01-06</td>\n",
       "      <td>2014-12-07</td>\n",
       "      <td>0ae0c7cc-a8a4-425f-9ccc-8b25dbb94f4d</td>\n",
       "      <td>dcc74708-d5c4-47b2-bc0c-97bf5abfcd99</td>\n",
       "      <td>110.000000</td>\n",
       "      <td>60.0</td>\n",
       "      <td>Los Angeles</td>\n",
       "      <td>34.053932</td>\n",
       "      <td>-118.362970</td>\n",
       "      <td>Private room</td>\n",
       "      <td>2</td>\n",
       "      <td>False</td>\n",
       "      <td>24.0</td>\n",
       "      <td>19.0</td>\n",
       "      <td>320.0</td>\n",
       "      <td>4</td>\n",
       "      <td>0.830959</td>\n",
       "      <td>74.0</td>\n",
       "      <td>16.0</td>\n",
       "      <td>1</td>\n",
       "      <td>2</td>\n",
       "      <td>6</td>\n",
       "      <td>0.0</td>\n",
       "      <td>7.0</td>\n",
       "      <td>NaN</td>\n",
       "      <td>NaN</td>\n",
       "      <td>0.000000</td>\n",
       "      <td>5.0</td>\n",
       "      <td>90.0</td>\n",
       "      <td>92.0</td>\n",
       "      <td>NaN</td>\n",
       "      <td>NaN</td>\n",
       "      <td>0.133333</td>\n",
       "      <td>788.142857</td>\n",
       "      <td>241.428571</td>\n",
       "      <td>41.428571</td>\n",
       "      <td>1.0</td>\n",
       "      <td>9840</td>\n",
       "      <td>1.314286</td>\n",
       "      <td>1.795918</td>\n",
       "      <td>57.0</td>\n",
       "      <td>48.0</td>\n",
       "      <td>79.0</td>\n",
       "      <td>75.0</td>\n",
       "      <td>98.0</td>\n",
       "    </tr>\n",
       "    <tr>\n",
       "      <th>1</th>\n",
       "      <td>True</td>\n",
       "      <td>2015-01-21</td>\n",
       "      <td>2014-12-22</td>\n",
       "      <td>82fdda07-6993-4cca-8ee4-fc218d2c07c7</td>\n",
       "      <td>559d8981-0c75-4631-9582-a3b644bb5631</td>\n",
       "      <td>70.000000</td>\n",
       "      <td>0.0</td>\n",
       "      <td>Los Angeles</td>\n",
       "      <td>34.108578</td>\n",
       "      <td>-118.208600</td>\n",
       "      <td>Private room</td>\n",
       "      <td>2</td>\n",
       "      <td>True</td>\n",
       "      <td>105.0</td>\n",
       "      <td>55.0</td>\n",
       "      <td>3.0</td>\n",
       "      <td>3</td>\n",
       "      <td>0.967384</td>\n",
       "      <td>263.0</td>\n",
       "      <td>0.0</td>\n",
       "      <td>1</td>\n",
       "      <td>3</td>\n",
       "      <td>21</td>\n",
       "      <td>7.0</td>\n",
       "      <td>7.0</td>\n",
       "      <td>NaN</td>\n",
       "      <td>NaN</td>\n",
       "      <td>0.359551</td>\n",
       "      <td>1.0</td>\n",
       "      <td>1125.0</td>\n",
       "      <td>70.0</td>\n",
       "      <td>NaN</td>\n",
       "      <td>NaN</td>\n",
       "      <td>0.066667</td>\n",
       "      <td>830.142857</td>\n",
       "      <td>298.000000</td>\n",
       "      <td>51.714286</td>\n",
       "      <td>1.0</td>\n",
       "      <td>9599</td>\n",
       "      <td>0.535714</td>\n",
       "      <td>2.693878</td>\n",
       "      <td>49.0</td>\n",
       "      <td>36.0</td>\n",
       "      <td>65.0</td>\n",
       "      <td>65.0</td>\n",
       "      <td>42.0</td>\n",
       "    </tr>\n",
       "    <tr>\n",
       "      <th>2</th>\n",
       "      <td>False</td>\n",
       "      <td>2015-01-22</td>\n",
       "      <td>2014-12-23</td>\n",
       "      <td>69b2069d-cf8f-49a7-b559-9619dbe86a7d</td>\n",
       "      <td>ee7901a6-79d5-4d69-bacf-e4bca976a66a</td>\n",
       "      <td>125.000000</td>\n",
       "      <td>0.0</td>\n",
       "      <td>Los Angeles</td>\n",
       "      <td>34.077194</td>\n",
       "      <td>-118.205700</td>\n",
       "      <td>Private room</td>\n",
       "      <td>1</td>\n",
       "      <td>False</td>\n",
       "      <td>0.0</td>\n",
       "      <td>0.0</td>\n",
       "      <td>NaN</td>\n",
       "      <td>3</td>\n",
       "      <td>0.485231</td>\n",
       "      <td>0.0</td>\n",
       "      <td>0.0</td>\n",
       "      <td>1</td>\n",
       "      <td>4</td>\n",
       "      <td>22</td>\n",
       "      <td>7.0</td>\n",
       "      <td>7.0</td>\n",
       "      <td>NaN</td>\n",
       "      <td>NaN</td>\n",
       "      <td>0.000000</td>\n",
       "      <td>1.0</td>\n",
       "      <td>1125.0</td>\n",
       "      <td>NaN</td>\n",
       "      <td>NaN</td>\n",
       "      <td>NaN</td>\n",
       "      <td>0.000000</td>\n",
       "      <td>810.142857</td>\n",
       "      <td>281.000000</td>\n",
       "      <td>51.714286</td>\n",
       "      <td>1.0</td>\n",
       "      <td>9514</td>\n",
       "      <td>0.714286</td>\n",
       "      <td>2.775510</td>\n",
       "      <td>49.0</td>\n",
       "      <td>35.0</td>\n",
       "      <td>65.0</td>\n",
       "      <td>66.5</td>\n",
       "      <td>46.0</td>\n",
       "    </tr>\n",
       "    <tr>\n",
       "      <th>3</th>\n",
       "      <td>True</td>\n",
       "      <td>2015-02-02</td>\n",
       "      <td>2015-01-03</td>\n",
       "      <td>66baade6-9352-4d7c-b590-745899bd12b3</td>\n",
       "      <td>af691f3d-525e-497c-b9c5-8750b097b04d</td>\n",
       "      <td>126.866667</td>\n",
       "      <td>125.0</td>\n",
       "      <td>Los Angeles</td>\n",
       "      <td>34.093494</td>\n",
       "      <td>-118.247340</td>\n",
       "      <td>Entire home/apt</td>\n",
       "      <td>6</td>\n",
       "      <td>False</td>\n",
       "      <td>0.0</td>\n",
       "      <td>0.0</td>\n",
       "      <td>NaN</td>\n",
       "      <td>5</td>\n",
       "      <td>0.309310</td>\n",
       "      <td>0.0</td>\n",
       "      <td>0.0</td>\n",
       "      <td>1</td>\n",
       "      <td>1</td>\n",
       "      <td>33</td>\n",
       "      <td>7.0</td>\n",
       "      <td>7.0</td>\n",
       "      <td>0.0</td>\n",
       "      <td>0.0</td>\n",
       "      <td>0.000000</td>\n",
       "      <td>3.0</td>\n",
       "      <td>1125.0</td>\n",
       "      <td>NaN</td>\n",
       "      <td>NaN</td>\n",
       "      <td>NaN</td>\n",
       "      <td>0.733333</td>\n",
       "      <td>816.857143</td>\n",
       "      <td>274.428571</td>\n",
       "      <td>41.857143</td>\n",
       "      <td>1.0</td>\n",
       "      <td>9739</td>\n",
       "      <td>1.744681</td>\n",
       "      <td>4.576531</td>\n",
       "      <td>113.0</td>\n",
       "      <td>52.0</td>\n",
       "      <td>120.0</td>\n",
       "      <td>115.0</td>\n",
       "      <td>115.0</td>\n",
       "    </tr>\n",
       "    <tr>\n",
       "      <th>4</th>\n",
       "      <td>True</td>\n",
       "      <td>2015-02-13</td>\n",
       "      <td>2015-01-14</td>\n",
       "      <td>01e3589e-a50a-494b-8cb2-9645b29476d0</td>\n",
       "      <td>6733a1d9-d485-4ea7-b8d2-883ee8a363b9</td>\n",
       "      <td>210.714286</td>\n",
       "      <td>200.0</td>\n",
       "      <td>Los Angeles</td>\n",
       "      <td>34.097540</td>\n",
       "      <td>-118.363556</td>\n",
       "      <td>Entire home/apt</td>\n",
       "      <td>5</td>\n",
       "      <td>False</td>\n",
       "      <td>9.0</td>\n",
       "      <td>1.0</td>\n",
       "      <td>34.0</td>\n",
       "      <td>5</td>\n",
       "      <td>0.335816</td>\n",
       "      <td>5.0</td>\n",
       "      <td>0.0</td>\n",
       "      <td>1</td>\n",
       "      <td>5</td>\n",
       "      <td>44</td>\n",
       "      <td>7.0</td>\n",
       "      <td>7.0</td>\n",
       "      <td>0.0</td>\n",
       "      <td>0.0</td>\n",
       "      <td>0.133333</td>\n",
       "      <td>2.0</td>\n",
       "      <td>1125.0</td>\n",
       "      <td>296.0</td>\n",
       "      <td>NaN</td>\n",
       "      <td>NaN</td>\n",
       "      <td>1.000000</td>\n",
       "      <td>1347.428571</td>\n",
       "      <td>419.428571</td>\n",
       "      <td>78.857143</td>\n",
       "      <td>1.0</td>\n",
       "      <td>9114</td>\n",
       "      <td>1.200000</td>\n",
       "      <td>4.877551</td>\n",
       "      <td>97.0</td>\n",
       "      <td>57.0</td>\n",
       "      <td>150.0</td>\n",
       "      <td>157.5</td>\n",
       "      <td>164.5</td>\n",
       "    </tr>\n",
       "  </tbody>\n",
       "</table>\n",
       "</div>"
      ],
      "text/plain": [
       "   dim_is_requested   ds_night         ds  \\\n",
       "0             False 2015-01-06 2014-12-07   \n",
       "1              True 2015-01-21 2014-12-22   \n",
       "2             False 2015-01-22 2014-12-23   \n",
       "3              True 2015-02-02 2015-01-03   \n",
       "4              True 2015-02-13 2015-01-14   \n",
       "\n",
       "                        id_listing_anon                          id_user_anon  \\\n",
       "0  0ae0c7cc-a8a4-425f-9ccc-8b25dbb94f4d  dcc74708-d5c4-47b2-bc0c-97bf5abfcd99   \n",
       "1  82fdda07-6993-4cca-8ee4-fc218d2c07c7  559d8981-0c75-4631-9582-a3b644bb5631   \n",
       "2  69b2069d-cf8f-49a7-b559-9619dbe86a7d  ee7901a6-79d5-4d69-bacf-e4bca976a66a   \n",
       "3  66baade6-9352-4d7c-b590-745899bd12b3  af691f3d-525e-497c-b9c5-8750b097b04d   \n",
       "4  01e3589e-a50a-494b-8cb2-9645b29476d0  6733a1d9-d485-4ea7-b8d2-883ee8a363b9   \n",
       "\n",
       "   m_effective_daily_price  m_pricing_cleaning_fee   dim_market    dim_lat  \\\n",
       "0               110.000000                    60.0  Los Angeles  34.053932   \n",
       "1                70.000000                     0.0  Los Angeles  34.108578   \n",
       "2               125.000000                     0.0  Los Angeles  34.077194   \n",
       "3               126.866667                   125.0  Los Angeles  34.093494   \n",
       "4               210.714286                   200.0  Los Angeles  34.097540   \n",
       "\n",
       "      dim_lng    dim_room_type  dim_person_capacity  dim_is_instant_bookable  \\\n",
       "0 -118.362970     Private room                    2                    False   \n",
       "1 -118.208600     Private room                    2                     True   \n",
       "2 -118.205700     Private room                    1                    False   \n",
       "3 -118.247340  Entire home/apt                    6                    False   \n",
       "4 -118.363556  Entire home/apt                    5                    False   \n",
       "\n",
       "   m_checkouts  m_reviews  days_since_last_booking  cancel_policy  \\\n",
       "0         24.0       19.0                    320.0              4   \n",
       "1        105.0       55.0                      3.0              3   \n",
       "2          0.0        0.0                      NaN              3   \n",
       "3          0.0        0.0                      NaN              5   \n",
       "4          9.0        1.0                     34.0              5   \n",
       "\n",
       "   image_quality_score  m_total_overall_rating  m_professional_pictures  \\\n",
       "0             0.830959                    74.0                     16.0   \n",
       "1             0.967384                   263.0                      0.0   \n",
       "2             0.485231                     0.0                      0.0   \n",
       "3             0.309310                     0.0                      0.0   \n",
       "4             0.335816                     5.0                      0.0   \n",
       "\n",
       "   dim_has_wireless_internet  ds_night_day_of_week  ds_night_day_of_year  \\\n",
       "0                          1                     2                     6   \n",
       "1                          1                     3                    21   \n",
       "2                          1                     4                    22   \n",
       "3                          1                     1                    33   \n",
       "4                          1                     5                    44   \n",
       "\n",
       "   ds_checkin_gap  ds_checkout_gap  occ_occupancy_plus_minus_7_ds_night  \\\n",
       "0             0.0              7.0                                  NaN   \n",
       "1             7.0              7.0                                  NaN   \n",
       "2             7.0              7.0                                  NaN   \n",
       "3             7.0              7.0                                  0.0   \n",
       "4             7.0              7.0                                  0.0   \n",
       "\n",
       "   occ_occupancy_plus_minus_14_ds_night  occ_occupancy_trailing_90_ds  \\\n",
       "0                                   NaN                      0.000000   \n",
       "1                                   NaN                      0.359551   \n",
       "2                                   NaN                      0.000000   \n",
       "3                                   0.0                      0.000000   \n",
       "4                                   0.0                      0.133333   \n",
       "\n",
       "   m_minimum_nights  m_maximum_nights  price_booked_most_recent  \\\n",
       "0               5.0              90.0                      92.0   \n",
       "1               1.0            1125.0                      70.0   \n",
       "2               1.0            1125.0                       NaN   \n",
       "3               3.0            1125.0                       NaN   \n",
       "4               2.0            1125.0                     296.0   \n",
       "\n",
       "   p2_p3_click_through_score  p3_inquiry_score  \\\n",
       "0                        NaN               NaN   \n",
       "1                        NaN               NaN   \n",
       "2                        NaN               NaN   \n",
       "3                        NaN               NaN   \n",
       "4                        NaN               NaN   \n",
       "\n",
       "   listing_m_listing_views_2_6_ds_night_decay  \\\n",
       "0                                    0.133333   \n",
       "1                                    0.066667   \n",
       "2                                    0.000000   \n",
       "3                                    0.733333   \n",
       "4                                    1.000000   \n",
       "\n",
       "   general_market_m_unique_searchers_0_6_ds_night  \\\n",
       "0                                      788.142857   \n",
       "1                                      830.142857   \n",
       "2                                      810.142857   \n",
       "3                                      816.857143   \n",
       "4                                     1347.428571   \n",
       "\n",
       "   general_market_m_contacts_0_6_ds_night  \\\n",
       "0                              241.428571   \n",
       "1                              298.000000   \n",
       "2                              281.000000   \n",
       "3                              274.428571   \n",
       "4                              419.428571   \n",
       "\n",
       "   general_market_m_reservation_requests_0_6_ds_night  \\\n",
       "0                                          41.428571    \n",
       "1                                          51.714286    \n",
       "2                                          51.714286    \n",
       "3                                          41.857143    \n",
       "4                                          78.857143    \n",
       "\n",
       "   general_market_m_is_booked_0_6_ds_night  m_available_listings_ds_night  \\\n",
       "0                                      1.0                           9840   \n",
       "1                                      1.0                           9599   \n",
       "2                                      1.0                           9514   \n",
       "3                                      1.0                           9739   \n",
       "4                                      1.0                           9114   \n",
       "\n",
       "   kdt_score  r_kdt_listing_views_0_6_avg_n100  r_kdt_n_active_n100  \\\n",
       "0   1.314286                          1.795918                 57.0   \n",
       "1   0.535714                          2.693878                 49.0   \n",
       "2   0.714286                          2.775510                 49.0   \n",
       "3   1.744681                          4.576531                113.0   \n",
       "4   1.200000                          4.877551                 97.0   \n",
       "\n",
       "   r_kdt_n_available_n100  r_kdt_m_effective_daily_price_n100_p50  \\\n",
       "0                    48.0                                    79.0   \n",
       "1                    36.0                                    65.0   \n",
       "2                    35.0                                    65.0   \n",
       "3                    52.0                                   120.0   \n",
       "4                    57.0                                   150.0   \n",
       "\n",
       "   r_kdt_m_effective_daily_price_available_n100_p50  \\\n",
       "0                                              75.0   \n",
       "1                                              65.0   \n",
       "2                                              66.5   \n",
       "3                                             115.0   \n",
       "4                                             157.5   \n",
       "\n",
       "   r_kdt_m_effective_daily_price_booked_n100_p50  \n",
       "0                                           98.0  \n",
       "1                                           42.0  \n",
       "2                                           46.0  \n",
       "3                                          115.0  \n",
       "4                                          164.5  "
      ]
     },
     "execution_count": 4,
     "metadata": {},
     "output_type": "execute_result"
    }
   ],
   "source": [
    "# read data and parse ds_night and ds as datetime datatype. \n",
    "file_path = \"./TH_data_challenge.tsv\"\n",
    "data = pd.read_csv(file_path, sep=\"\\t\", parse_dates=[1, 2])\n",
    "data.head()"
   ]
  },
  {
   "cell_type": "code",
   "execution_count": 5,
   "metadata": {
    "collapsed": false
   },
   "outputs": [
    {
     "name": "stdout",
     "output_type": "stream",
     "text": [
      "<class 'pandas.core.frame.DataFrame'>\n",
      "RangeIndex: 184279 entries, 0 to 184278\n",
      "Data columns (total 46 columns):\n",
      "dim_is_requested                                      184279 non-null bool\n",
      "ds_night                                              184279 non-null datetime64[ns]\n",
      "ds                                                    184279 non-null datetime64[ns]\n",
      "id_listing_anon                                       184279 non-null object\n",
      "id_user_anon                                          184279 non-null object\n",
      "m_effective_daily_price                               184279 non-null float64\n",
      "m_pricing_cleaning_fee                                184279 non-null float64\n",
      "dim_market                                            184279 non-null object\n",
      "dim_lat                                               184279 non-null float64\n",
      "dim_lng                                               184279 non-null float64\n",
      "dim_room_type                                         184279 non-null object\n",
      "dim_person_capacity                                   184279 non-null int64\n",
      "dim_is_instant_bookable                               184279 non-null bool\n",
      "m_checkouts                                           184092 non-null float64\n",
      "m_reviews                                             184092 non-null float64\n",
      "days_since_last_booking                               146443 non-null float64\n",
      "cancel_policy                                         184279 non-null int64\n",
      "image_quality_score                                   170268 non-null float64\n",
      "m_total_overall_rating                                184092 non-null float64\n",
      "m_professional_pictures                               184092 non-null float64\n",
      "dim_has_wireless_internet                             184279 non-null int64\n",
      "ds_night_day_of_week                                  184279 non-null int64\n",
      "ds_night_day_of_year                                  184279 non-null int64\n",
      "ds_checkin_gap                                        182058 non-null float64\n",
      "ds_checkout_gap                                       182058 non-null float64\n",
      "occ_occupancy_plus_minus_7_ds_night                   163552 non-null float64\n",
      "occ_occupancy_plus_minus_14_ds_night                  163627 non-null float64\n",
      "occ_occupancy_trailing_90_ds                          174061 non-null float64\n",
      "m_minimum_nights                                      182058 non-null float64\n",
      "m_maximum_nights                                      182058 non-null float64\n",
      "price_booked_most_recent                              146443 non-null float64\n",
      "p2_p3_click_through_score                             57169 non-null float64\n",
      "p3_inquiry_score                                      54989 non-null float64\n",
      "listing_m_listing_views_2_6_ds_night_decay            181933 non-null float64\n",
      "general_market_m_unique_searchers_0_6_ds_night        184279 non-null float64\n",
      "general_market_m_contacts_0_6_ds_night                184279 non-null float64\n",
      "general_market_m_reservation_requests_0_6_ds_night    184279 non-null float64\n",
      "general_market_m_is_booked_0_6_ds_night               184279 non-null float64\n",
      "m_available_listings_ds_night                         184279 non-null int64\n",
      "kdt_score                                             184279 non-null float64\n",
      "r_kdt_listing_views_0_6_avg_n100                      184278 non-null float64\n",
      "r_kdt_n_active_n100                                   184278 non-null float64\n",
      "r_kdt_n_available_n100                                184278 non-null float64\n",
      "r_kdt_m_effective_daily_price_n100_p50                184278 non-null float64\n",
      "r_kdt_m_effective_daily_price_available_n100_p50      184262 non-null float64\n",
      "r_kdt_m_effective_daily_price_booked_n100_p50         171304 non-null float64\n",
      "dtypes: bool(2), datetime64[ns](2), float64(32), int64(6), object(4)\n",
      "memory usage: 62.2+ MB\n"
     ]
    }
   ],
   "source": [
    "data.info()"
   ]
  },
  {
   "cell_type": "markdown",
   "metadata": {},
   "source": [
    "## 1.1 Explore price-related features "
   ]
  },
  {
   "cell_type": "code",
   "execution_count": 6,
   "metadata": {
    "collapsed": false
   },
   "outputs": [
    {
     "data": {
      "text/html": [
       "<div>\n",
       "<style>\n",
       "    .dataframe thead tr:only-child th {\n",
       "        text-align: right;\n",
       "    }\n",
       "\n",
       "    .dataframe thead th {\n",
       "        text-align: left;\n",
       "    }\n",
       "\n",
       "    .dataframe tbody tr th {\n",
       "        vertical-align: top;\n",
       "    }\n",
       "</style>\n",
       "<table border=\"1\" class=\"dataframe\">\n",
       "  <thead>\n",
       "    <tr style=\"text-align: right;\">\n",
       "      <th></th>\n",
       "      <th>m_effective_daily_price</th>\n",
       "      <th>r_kdt_m_effective_daily_price_n100_p50</th>\n",
       "      <th>r_kdt_m_effective_daily_price_available_n100_p50</th>\n",
       "      <th>r_kdt_m_effective_daily_price_booked_n100_p50</th>\n",
       "    </tr>\n",
       "  </thead>\n",
       "  <tbody>\n",
       "    <tr>\n",
       "      <th>count</th>\n",
       "      <td>184279.000000</td>\n",
       "      <td>184278.000000</td>\n",
       "      <td>184262.000000</td>\n",
       "      <td>171304.000000</td>\n",
       "    </tr>\n",
       "    <tr>\n",
       "      <th>mean</th>\n",
       "      <td>149.405456</td>\n",
       "      <td>109.231766</td>\n",
       "      <td>115.385867</td>\n",
       "      <td>95.601191</td>\n",
       "    </tr>\n",
       "    <tr>\n",
       "      <th>std</th>\n",
       "      <td>272.233310</td>\n",
       "      <td>64.013523</td>\n",
       "      <td>72.728042</td>\n",
       "      <td>48.744252</td>\n",
       "    </tr>\n",
       "    <tr>\n",
       "      <th>min</th>\n",
       "      <td>-55.000000</td>\n",
       "      <td>0.000000</td>\n",
       "      <td>0.000000</td>\n",
       "      <td>0.000000</td>\n",
       "    </tr>\n",
       "    <tr>\n",
       "      <th>25%</th>\n",
       "      <td>71.349427</td>\n",
       "      <td>75.000000</td>\n",
       "      <td>77.728465</td>\n",
       "      <td>65.000000</td>\n",
       "    </tr>\n",
       "    <tr>\n",
       "      <th>50%</th>\n",
       "      <td>100.000000</td>\n",
       "      <td>95.259429</td>\n",
       "      <td>98.538890</td>\n",
       "      <td>86.079324</td>\n",
       "    </tr>\n",
       "    <tr>\n",
       "      <th>75%</th>\n",
       "      <td>152.346733</td>\n",
       "      <td>129.000000</td>\n",
       "      <td>135.474918</td>\n",
       "      <td>115.754137</td>\n",
       "    </tr>\n",
       "    <tr>\n",
       "      <th>max</th>\n",
       "      <td>12995.000000</td>\n",
       "      <td>1374.500000</td>\n",
       "      <td>1500.000000</td>\n",
       "      <td>1995.000000</td>\n",
       "    </tr>\n",
       "  </tbody>\n",
       "</table>\n",
       "</div>"
      ],
      "text/plain": [
       "       m_effective_daily_price  r_kdt_m_effective_daily_price_n100_p50  \\\n",
       "count            184279.000000                           184278.000000   \n",
       "mean                149.405456                              109.231766   \n",
       "std                 272.233310                               64.013523   \n",
       "min                 -55.000000                                0.000000   \n",
       "25%                  71.349427                               75.000000   \n",
       "50%                 100.000000                               95.259429   \n",
       "75%                 152.346733                              129.000000   \n",
       "max               12995.000000                             1374.500000   \n",
       "\n",
       "       r_kdt_m_effective_daily_price_available_n100_p50  \\\n",
       "count                                     184262.000000   \n",
       "mean                                         115.385867   \n",
       "std                                           72.728042   \n",
       "min                                            0.000000   \n",
       "25%                                           77.728465   \n",
       "50%                                           98.538890   \n",
       "75%                                          135.474918   \n",
       "max                                         1500.000000   \n",
       "\n",
       "       r_kdt_m_effective_daily_price_booked_n100_p50  \n",
       "count                                  171304.000000  \n",
       "mean                                       95.601191  \n",
       "std                                        48.744252  \n",
       "min                                         0.000000  \n",
       "25%                                        65.000000  \n",
       "50%                                        86.079324  \n",
       "75%                                       115.754137  \n",
       "max                                      1995.000000  "
      ]
     },
     "execution_count": 6,
     "metadata": {},
     "output_type": "execute_result"
    }
   ],
   "source": [
    "data[['m_effective_daily_price', 'r_kdt_m_effective_daily_price_n100_p50', \n",
    "      'r_kdt_m_effective_daily_price_available_n100_p50', 'r_kdt_m_effective_daily_price_booked_n100_p50']].describe()"
   ]
  },
  {
   "cell_type": "code",
   "execution_count": 7,
   "metadata": {
    "collapsed": false
   },
   "outputs": [
    {
     "data": {
      "text/plain": [
       "41d906f7-2556-4309-a406-f9a7a9e2c30c    41\n",
       "3e2330a5-d69c-4adb-bc7e-536e5a91d9a2     5\n",
       "6326c2c2-bae6-491d-9a34-087306f3b9d1     3\n",
       "4efc72c7-6b7e-49c2-b5a7-b0183b05c534     3\n",
       "542a7634-0d85-4270-938d-e8ea118a201a     2\n",
       "c62e1d91-8160-4fac-9f1f-890b94a47254     1\n",
       "661d45ed-069f-423a-8089-5263bd4cd352     1\n",
       "c16399a8-4b9f-4d90-a13f-e83e33c069ef     1\n",
       "cb0b3033-1e14-43a3-8fab-1754f6df6167     1\n",
       "373d8d7f-4961-4f97-9376-44c9a4541a32     1\n",
       "e5b339a9-1ad9-4eac-b04f-354524ef9635     1\n",
       "0d89d1d0-5ff9-466b-8164-de24972ce1bf     1\n",
       "5ae80d64-3155-4d51-a60c-25a7aa8dcead     1\n",
       "Name: id_user_anon, dtype: int64"
      ]
     },
     "execution_count": 7,
     "metadata": {},
     "output_type": "execute_result"
    }
   ],
   "source": [
    "data[data.m_effective_daily_price <= 0]['id_user_anon'].value_counts()"
   ]
  },
  {
   "cell_type": "markdown",
   "metadata": {},
   "source": [
    "from the stat information above, it is strange that m_effective_daily_price is negative. Two possible explanations:\n",
    "* some hosts do it on purpose to attract listing views and put most of charge to cleaning fee.  \n",
    "* this is a bug in airbnb system. \n",
    "\n",
    "Let us investigate. "
   ]
  },
  {
   "cell_type": "code",
   "execution_count": 8,
   "metadata": {
    "collapsed": false
   },
   "outputs": [
    {
     "data": {
      "text/plain": [
       "count    184279.000000\n",
       "mean        187.419743\n",
       "std         296.856889\n",
       "min           0.000000\n",
       "25%          85.687500\n",
       "50%         125.345548\n",
       "75%         200.838710\n",
       "max       13295.000000\n",
       "Name: m_effective_daily_price_2, dtype: float64"
      ]
     },
     "execution_count": 8,
     "metadata": {},
     "output_type": "execute_result"
    }
   ],
   "source": [
    "# here m_effective_daily_price_2 is served as total price that a guest will pay. \n",
    "data['m_effective_daily_price_2'] = data.m_effective_daily_price + data.m_pricing_cleaning_fee\n",
    "data.m_effective_daily_price_2.describe()"
   ]
  },
  {
   "cell_type": "markdown",
   "metadata": {},
   "source": [
    "the negative effective daily price is very likely because of the first reason. However, to be conservative, I will report this issue to engineering team.\n",
    "\n",
    "Based on my previous personal experience of booking a room at airbnb or other hotel websites, I always consider listing price as one of the big decision factors when I compare listings. In addition to the listing price itself, features should be defined to quantify how competitive the listing price is. I use price ratio between the listing price and the average/median price within the neighbor (KDT node in the data) or within the market (city in the data). \n",
    "\n",
    "m_effective_daily_price_ratio = m_effective_daily_price / r_kdt_m_effective_daily_price_available_n100_p50."
   ]
  },
  {
   "cell_type": "code",
   "execution_count": 9,
   "metadata": {
    "collapsed": true
   },
   "outputs": [],
   "source": [
    "# add a smooth factor to avoid of zero division \n",
    "smooth_factor = 1.0 \n",
    "data['m_effective_daily_price_ratio'] = (data.m_effective_daily_price / \n",
    "                                         (data.r_kdt_m_effective_daily_price_available_n100_p50 + smooth_factor))\n",
    "data['m_effective_daily_price_ratio_2'] = (data.m_effective_daily_price_2 / \n",
    "                                         (data.r_kdt_m_effective_daily_price_available_n100_p50 + smooth_factor))"
   ]
  },
  {
   "cell_type": "code",
   "execution_count": 10,
   "metadata": {
    "collapsed": false
   },
   "outputs": [
    {
     "data": {
      "text/plain": [
       "dim_is_requested\n",
       "False    1.374259\n",
       "True     0.944054\n",
       "Name: m_effective_daily_price_ratio, dtype: float64"
      ]
     },
     "execution_count": 10,
     "metadata": {},
     "output_type": "execute_result"
    }
   ],
   "source": [
    "data.groupby('dim_is_requested')['m_effective_daily_price_ratio'].mean()"
   ]
  },
  {
   "cell_type": "code",
   "execution_count": 11,
   "metadata": {
    "collapsed": false
   },
   "outputs": [
    {
     "data": {
      "text/plain": [
       "dim_is_requested\n",
       "False    1.677105\n",
       "True     1.246547\n",
       "Name: m_effective_daily_price_ratio_2, dtype: float64"
      ]
     },
     "execution_count": 11,
     "metadata": {},
     "output_type": "execute_result"
    }
   ],
   "source": [
    "data.groupby('dim_is_requested')['m_effective_daily_price_ratio_2'].mean()"
   ]
  },
  {
   "cell_type": "markdown",
   "metadata": {},
   "source": [
    "If I see a host provides a discount of a listing compared to the most recent booking price, I will be more likely to book the listing. Here I compute a percentage difference between the listing price and the most recent booking price, which represents a discount of price. "
   ]
  },
  {
   "cell_type": "code",
   "execution_count": 12,
   "metadata": {
    "collapsed": false
   },
   "outputs": [
    {
     "data": {
      "text/plain": [
       "dim_is_requested\n",
       "False    22.142485\n",
       "True      0.513872\n",
       "Name: m_effective_daily_price_diff_pct, dtype: float64"
      ]
     },
     "execution_count": 12,
     "metadata": {},
     "output_type": "execute_result"
    }
   ],
   "source": [
    "data['m_effective_daily_price_diff_pct'] = (data.m_effective_daily_price / data.price_booked_most_recent - 1) * 100\n",
    "data.groupby('dim_is_requested')['m_effective_daily_price_diff_pct'].mean()"
   ]
  },
  {
   "cell_type": "markdown",
   "metadata": {},
   "source": [
    "As seen from the above table, m_effective_daily_price_ratio, m_effective_daily_price_ratio_2 and m_effective_daily_price_diff_pct represent how competitive a list price is compared against to its neighboring prices and its own history. And these three features seem like useful feature to predict whether a listing will be booked or not. "
   ]
  },
  {
   "cell_type": "markdown",
   "metadata": {},
   "source": [
    "## 1.2 Explore temporal-related features to study seasonality effect of booking "
   ]
  },
  {
   "cell_type": "code",
   "execution_count": 13,
   "metadata": {
    "collapsed": false
   },
   "outputs": [
    {
     "data": {
      "text/plain": [
       "<seaborn.axisgrid.FacetGrid at 0x1a1b5f56d8>"
      ]
     },
     "execution_count": 13,
     "metadata": {},
     "output_type": "execute_result"
    },
    {
     "data": {
      "image/png": "[encoded data removed]",
      "text/plain": [
       "<matplotlib.figure.Figure at 0x1a1a8ebdd8>"
      ]
     },
     "metadata": {},
     "output_type": "display_data"
    }
   ],
   "source": [
    "## extract month of the listing date and study whether there is a seasonality effect \n",
    "data[\"ds_month\"] = data.ds_night.dt.month\n",
    "sns.factorplot(x=\"ds_month\", y=\"dim_is_requested\", col=\"dim_market\", kind=\"bar\", data=data)"
   ]
  },
  {
   "cell_type": "markdown",
   "metadata": {},
   "source": [
    "From the plot above, apparently there is a monthly or seasonly effect about booking rate and this effects is very different from Paris to US cities. While the booking rate peaks around August in US cities, the booking rate of Paris has very low booking rate at July and August. "
   ]
  },
  {
   "cell_type": "code",
   "execution_count": 14,
   "metadata": {
    "collapsed": false
   },
   "outputs": [
    {
     "data": {
      "text/plain": [
       "<matplotlib.axes._subplots.AxesSubplot at 0x1a1a28b5f8>"
      ]
     },
     "execution_count": 14,
     "metadata": {},
     "output_type": "execute_result"
    },
    {
     "data": {
      "image/png": "[encoded data removed]",
      "text/plain": [
       "<matplotlib.figure.Figure at 0x105d8c160>"
      ]
     },
     "metadata": {},
     "output_type": "display_data"
    }
   ],
   "source": [
    "# study the booking rate for each day of week\n",
    "sns.barplot(x=\"ds_night_day_of_week\", y=\"dim_is_requested\", data=data)"
   ]
  },
  {
   "cell_type": "code",
   "execution_count": 15,
   "metadata": {
    "collapsed": true
   },
   "outputs": [],
   "source": [
    "# from the above plot, booking rate during the weekend is higher than that of weekday. \n",
    "# extract whether booking date is weekend or not. Here weekend includes Friday night (5) and Saturday night(6)\n",
    "data['is_weekend'] = data.ds_night_day_of_week >= 5"
   ]
  },
  {
   "cell_type": "code",
   "execution_count": null,
   "metadata": {
    "collapsed": true
   },
   "outputs": [],
   "source": []
  },
  {
   "cell_type": "markdown",
   "metadata": {},
   "source": [
    "## 1.3 Explore other features"
   ]
  },
  {
   "cell_type": "code",
   "execution_count": 16,
   "metadata": {
    "collapsed": false
   },
   "outputs": [
    {
     "data": {
      "text/plain": [
       "<matplotlib.axes._subplots.AxesSubplot at 0x1a1a2d2a90>"
      ]
     },
     "execution_count": 16,
     "metadata": {},
     "output_type": "execute_result"
    },
    {
     "data": {
      "image/png": "[encoded data removed]",
      "text/plain": [
       "<matplotlib.figure.Figure at 0x1a1a2e2198>"
      ]
     },
     "metadata": {},
     "output_type": "display_data"
    }
   ],
   "source": [
    "sns.barplot(x=\"dim_is_instant_bookable\", y=\"dim_is_requested\", data=data)"
   ]
  },
  {
   "cell_type": "code",
   "execution_count": 17,
   "metadata": {
    "collapsed": false
   },
   "outputs": [
    {
     "data": {
      "text/plain": [
       "<matplotlib.axes._subplots.AxesSubplot at 0x1a15d37518>"
      ]
     },
     "execution_count": 17,
     "metadata": {},
     "output_type": "execute_result"
    },
    {
     "data": {
      "image/png": "[encoded data removed]",
      "text/plain": [
       "<matplotlib.figure.Figure at 0x1a1a2a62b0>"
      ]
     },
     "metadata": {},
     "output_type": "display_data"
    }
   ],
   "source": [
    "sns.barplot(x=\"dim_market\", y=\"dim_is_requested\", data=data)"
   ]
  },
  {
   "cell_type": "code",
   "execution_count": 18,
   "metadata": {
    "collapsed": false
   },
   "outputs": [
    {
     "data": {
      "text/html": [
       "<div>\n",
       "<style>\n",
       "    .dataframe thead tr:only-child th {\n",
       "        text-align: right;\n",
       "    }\n",
       "\n",
       "    .dataframe thead th {\n",
       "        text-align: left;\n",
       "    }\n",
       "\n",
       "    .dataframe tbody tr th {\n",
       "        vertical-align: top;\n",
       "    }\n",
       "</style>\n",
       "<table border=\"1\" class=\"dataframe\">\n",
       "  <thead>\n",
       "    <tr style=\"text-align: right;\">\n",
       "      <th></th>\n",
       "      <th>count</th>\n",
       "      <th>mean</th>\n",
       "      <th>std</th>\n",
       "      <th>min</th>\n",
       "      <th>25%</th>\n",
       "      <th>50%</th>\n",
       "      <th>75%</th>\n",
       "      <th>max</th>\n",
       "    </tr>\n",
       "    <tr>\n",
       "      <th>dim_is_requested</th>\n",
       "      <th></th>\n",
       "      <th></th>\n",
       "      <th></th>\n",
       "      <th></th>\n",
       "      <th></th>\n",
       "      <th></th>\n",
       "      <th></th>\n",
       "      <th></th>\n",
       "    </tr>\n",
       "  </thead>\n",
       "  <tbody>\n",
       "    <tr>\n",
       "      <th>False</th>\n",
       "      <td>122425.0</td>\n",
       "      <td>5.825787</td>\n",
       "      <td>26.837803</td>\n",
       "      <td>1.0</td>\n",
       "      <td>1.0</td>\n",
       "      <td>2.0</td>\n",
       "      <td>3.0</td>\n",
       "      <td>1000.0</td>\n",
       "    </tr>\n",
       "    <tr>\n",
       "      <th>True</th>\n",
       "      <td>59633.0</td>\n",
       "      <td>3.300874</td>\n",
       "      <td>6.892270</td>\n",
       "      <td>1.0</td>\n",
       "      <td>1.0</td>\n",
       "      <td>2.0</td>\n",
       "      <td>3.0</td>\n",
       "      <td>365.0</td>\n",
       "    </tr>\n",
       "  </tbody>\n",
       "</table>\n",
       "</div>"
      ],
      "text/plain": [
       "                     count      mean        std  min  25%  50%  75%     max\n",
       "dim_is_requested                                                           \n",
       "False             122425.0  5.825787  26.837803  1.0  1.0  2.0  3.0  1000.0\n",
       "True               59633.0  3.300874   6.892270  1.0  1.0  2.0  3.0   365.0"
      ]
     },
     "execution_count": 18,
     "metadata": {},
     "output_type": "execute_result"
    }
   ],
   "source": [
    "data.groupby('dim_is_requested')['m_minimum_nights'].describe()"
   ]
  },
  {
   "cell_type": "markdown",
   "metadata": {},
   "source": [
    "## 1.4 Ways to deal with missing value:\n",
    "* drop feature if the feature is not highly correlated with the target and the missing percentage is too high \n",
    "* impute the missing value based on mean or median. create boolean feature to indicate whether the feature is missing or not if necessary\n",
    "* More accurate way of guessing missing values is to use other correlated features. "
   ]
  },
  {
   "cell_type": "code",
   "execution_count": 19,
   "metadata": {
    "collapsed": false
   },
   "outputs": [
    {
     "data": {
      "text/plain": [
       "p3_inquiry_score                                    70.159921\n",
       "p2_p3_click_through_score                           68.976932\n",
       "m_effective_daily_price_diff_pct                    20.554160\n",
       "days_since_last_booking                             20.531911\n",
       "price_booked_most_recent                            20.531911\n",
       "occ_occupancy_plus_minus_7_ds_night                 11.247619\n",
       "occ_occupancy_plus_minus_14_ds_night                11.206920\n",
       "image_quality_score                                  7.603145\n",
       "r_kdt_m_effective_daily_price_booked_n100_p50        7.040954\n",
       "occ_occupancy_trailing_90_ds                         5.544853\n",
       "listing_m_listing_views_2_6_ds_night_decay           1.273070\n",
       "m_minimum_nights                                     1.205238\n",
       "ds_checkin_gap                                       1.205238\n",
       "ds_checkout_gap                                      1.205238\n",
       "m_maximum_nights                                     1.205238\n",
       "m_professional_pictures                              0.101477\n",
       "m_total_overall_rating                               0.101477\n",
       "m_reviews                                            0.101477\n",
       "m_checkouts                                          0.101477\n",
       "m_effective_daily_price_ratio_2                      0.009225\n",
       "r_kdt_m_effective_daily_price_available_n100_p50     0.009225\n",
       "m_effective_daily_price_ratio                        0.009225\n",
       "r_kdt_listing_views_0_6_avg_n100                     0.000543\n",
       "r_kdt_n_active_n100                                  0.000543\n",
       "r_kdt_n_available_n100                               0.000543\n",
       "r_kdt_m_effective_daily_price_n100_p50               0.000543\n",
       "dtype: float64"
      ]
     },
     "execution_count": 19,
     "metadata": {},
     "output_type": "execute_result"
    }
   ],
   "source": [
    "# let us look at missing percentage of each feature \n",
    "null_pct = (data.isnull().sum() / data.shape[0]) * 100\n",
    "null_pct[null_pct > 0].sort_values(ascending=False)"
   ]
  },
  {
   "cell_type": "markdown",
   "metadata": {},
   "source": [
    "From the table above, p3_inquiry_score and p2_p3_click_through_score have very high missing percentage, hence both feature should be ignored in prediction. However, based on the definitions of these two features, they seem to be good indicators to tell if a listing is booked or not. Let us study that. "
   ]
  },
  {
   "cell_type": "markdown",
   "metadata": {},
   "source": [
    "### 1.4.1 Impute p3_inquiry_score and p2_p3_click_through_score"
   ]
  },
  {
   "cell_type": "code",
   "execution_count": 20,
   "metadata": {
    "collapsed": false
   },
   "outputs": [
    {
     "data": {
      "text/plain": [
       "<matplotlib.axes._subplots.AxesSubplot at 0x1a168e3828>"
      ]
     },
     "execution_count": 20,
     "metadata": {},
     "output_type": "execute_result"
    },
    {
     "data": {
      "image/png": "[encoded data removed]",
      "text/plain": [
       "<matplotlib.figure.Figure at 0x1a15d38828>"
      ]
     },
     "metadata": {},
     "output_type": "display_data"
    }
   ],
   "source": [
    "sns.barplot(x=\"dim_is_requested\", y=\"p2_p3_click_through_score\", data=data)"
   ]
  },
  {
   "cell_type": "code",
   "execution_count": 21,
   "metadata": {
    "collapsed": false
   },
   "outputs": [
    {
     "data": {
      "text/plain": [
       "<matplotlib.axes._subplots.AxesSubplot at 0x1a168687b8>"
      ]
     },
     "execution_count": 21,
     "metadata": {},
     "output_type": "execute_result"
    },
    {
     "data": {
      "image/png": "[encoded data removed]",
      "text/plain": [
       "<matplotlib.figure.Figure at 0x1a16875518>"
      ]
     },
     "metadata": {},
     "output_type": "display_data"
    }
   ],
   "source": [
    "sns.barplot(x=\"dim_is_requested\", y=\"p3_inquiry_score\", data=data)"
   ]
  },
  {
   "cell_type": "code",
   "execution_count": 22,
   "metadata": {
    "collapsed": false
   },
   "outputs": [
    {
     "data": {
      "image/png": "[encoded data removed]",
      "text/plain": [
       "<matplotlib.figure.Figure at 0x1a16ac9c88>"
      ]
     },
     "metadata": {},
     "output_type": "display_data"
    }
   ],
   "source": [
    "g = sns.FacetGrid(data, col='dim_is_requested')\n",
    "g = g.map(plt.hist, 'p3_inquiry_score', bins=50, normed=True)"
   ]
  },
  {
   "cell_type": "code",
   "execution_count": 23,
   "metadata": {
    "collapsed": false
   },
   "outputs": [
    {
     "data": {
      "image/png": "[encoded data removed]",
      "text/plain": [
       "<matplotlib.figure.Figure at 0x1a363c0dd8>"
      ]
     },
     "metadata": {},
     "output_type": "display_data"
    }
   ],
   "source": [
    "g = sns.FacetGrid(data, col='dim_is_requested')\n",
    "g = g.map(plt.hist, 'p2_p3_click_through_score', bins=50, normed=True)"
   ]
  },
  {
   "cell_type": "markdown",
   "metadata": {},
   "source": [
    "From the plot above, these two features are quite important. Let us impute the missing value based on mean. Any imputation should only use training data but not testing data. Since we did not split the data into training and testing data, imputation will be applied after the data is split (see function of split_train_test). "
   ]
  },
  {
   "cell_type": "markdown",
   "metadata": {},
   "source": [
    "### 1.4.2 Impute days_since_last_booking and price_booked_most_recent"
   ]
  },
  {
   "cell_type": "code",
   "execution_count": 24,
   "metadata": {
    "collapsed": false
   },
   "outputs": [
    {
     "data": {
      "text/plain": [
       "<seaborn.axisgrid.FacetGrid at 0x1a15fe8e10>"
      ]
     },
     "execution_count": 24,
     "metadata": {},
     "output_type": "execute_result"
    },
    {
     "data": {
      "image/png": "[encoded data removed]",
      "text/plain": [
       "<matplotlib.figure.Figure at 0x1a36e70940>"
      ]
     },
     "metadata": {},
     "output_type": "display_data"
    }
   ],
   "source": [
    "sns.factorplot(x=\"dim_market\", y=\"days_since_last_booking\", col='dim_room_type', hue=\"dim_is_requested\", kind=\"bar\", data=data)"
   ]
  },
  {
   "cell_type": "code",
   "execution_count": 25,
   "metadata": {
    "collapsed": false
   },
   "outputs": [
    {
     "data": {
      "text/plain": [
       "<seaborn.axisgrid.FacetGrid at 0x1a3974e0b8>"
      ]
     },
     "execution_count": 25,
     "metadata": {},
     "output_type": "execute_result"
    },
    {
     "data": {
      "image/png": "[encoded data removed]",
      "text/plain": [
       "<matplotlib.figure.Figure at 0x1a16f8f9b0>"
      ]
     },
     "metadata": {},
     "output_type": "display_data"
    }
   ],
   "source": [
    "sns.factorplot(x=\"dim_market\", y=\"price_booked_most_recent\", col='dim_room_type', hue=\"dim_is_requested\", kind=\"bar\", data=data)"
   ]
  },
  {
   "cell_type": "code",
   "execution_count": 26,
   "metadata": {
    "collapsed": false
   },
   "outputs": [
    {
     "data": {
      "text/html": [
       "<div>\n",
       "<style>\n",
       "    .dataframe thead tr:only-child th {\n",
       "        text-align: right;\n",
       "    }\n",
       "\n",
       "    .dataframe thead th {\n",
       "        text-align: left;\n",
       "    }\n",
       "\n",
       "    .dataframe tbody tr th {\n",
       "        vertical-align: top;\n",
       "    }\n",
       "</style>\n",
       "<table border=\"1\" class=\"dataframe\">\n",
       "  <thead>\n",
       "    <tr style=\"text-align: right;\">\n",
       "      <th>dim_room_type</th>\n",
       "      <th>Entire home/apt</th>\n",
       "      <th>Private room</th>\n",
       "      <th>Shared room</th>\n",
       "    </tr>\n",
       "    <tr>\n",
       "      <th>dim_market</th>\n",
       "      <th></th>\n",
       "      <th></th>\n",
       "      <th></th>\n",
       "    </tr>\n",
       "  </thead>\n",
       "  <tbody>\n",
       "    <tr>\n",
       "      <th>Los Angeles</th>\n",
       "      <td>239.260789</td>\n",
       "      <td>80.644822</td>\n",
       "      <td>48.831610</td>\n",
       "    </tr>\n",
       "    <tr>\n",
       "      <th>Paris</th>\n",
       "      <td>126.227140</td>\n",
       "      <td>65.273788</td>\n",
       "      <td>53.467577</td>\n",
       "    </tr>\n",
       "    <tr>\n",
       "      <th>San Francisco</th>\n",
       "      <td>300.064348</td>\n",
       "      <td>119.897607</td>\n",
       "      <td>58.113012</td>\n",
       "    </tr>\n",
       "  </tbody>\n",
       "</table>\n",
       "</div>"
      ],
      "text/plain": [
       "dim_room_type  Entire home/apt  Private room  Shared room\n",
       "dim_market                                               \n",
       "Los Angeles         239.260789     80.644822    48.831610\n",
       "Paris               126.227140     65.273788    53.467577\n",
       "San Francisco       300.064348    119.897607    58.113012"
      ]
     },
     "execution_count": 26,
     "metadata": {},
     "output_type": "execute_result"
    }
   ],
   "source": [
    "impute_price_booked_most_recent = data.pivot_table('price_booked_most_recent', \n",
    "                                                   index='dim_market', columns='dim_room_type', aggfunc='mean')\n",
    "impute_price_booked_most_recent"
   ]
  },
  {
   "cell_type": "code",
   "execution_count": 27,
   "metadata": {
    "collapsed": false
   },
   "outputs": [
    {
     "data": {
      "text/html": [
       "<div>\n",
       "<style>\n",
       "    .dataframe thead tr:only-child th {\n",
       "        text-align: right;\n",
       "    }\n",
       "\n",
       "    .dataframe thead th {\n",
       "        text-align: left;\n",
       "    }\n",
       "\n",
       "    .dataframe tbody tr th {\n",
       "        vertical-align: top;\n",
       "    }\n",
       "</style>\n",
       "<table border=\"1\" class=\"dataframe\">\n",
       "  <thead>\n",
       "    <tr style=\"text-align: right;\">\n",
       "      <th>dim_room_type</th>\n",
       "      <th>Entire home/apt</th>\n",
       "      <th>Private room</th>\n",
       "      <th>Shared room</th>\n",
       "    </tr>\n",
       "    <tr>\n",
       "      <th>dim_market</th>\n",
       "      <th></th>\n",
       "      <th></th>\n",
       "      <th></th>\n",
       "    </tr>\n",
       "  </thead>\n",
       "  <tbody>\n",
       "    <tr>\n",
       "      <th>Los Angeles</th>\n",
       "      <td>57.498334</td>\n",
       "      <td>70.162785</td>\n",
       "      <td>30.433284</td>\n",
       "    </tr>\n",
       "    <tr>\n",
       "      <th>Paris</th>\n",
       "      <td>75.891506</td>\n",
       "      <td>81.530175</td>\n",
       "      <td>95.151308</td>\n",
       "    </tr>\n",
       "    <tr>\n",
       "      <th>San Francisco</th>\n",
       "      <td>48.419772</td>\n",
       "      <td>45.199264</td>\n",
       "      <td>53.964706</td>\n",
       "    </tr>\n",
       "  </tbody>\n",
       "</table>\n",
       "</div>"
      ],
      "text/plain": [
       "dim_room_type  Entire home/apt  Private room  Shared room\n",
       "dim_market                                               \n",
       "Los Angeles          57.498334     70.162785    30.433284\n",
       "Paris                75.891506     81.530175    95.151308\n",
       "San Francisco        48.419772     45.199264    53.964706"
      ]
     },
     "execution_count": 27,
     "metadata": {},
     "output_type": "execute_result"
    }
   ],
   "source": [
    "impute_days_since_last_booking = data.pivot_table('days_since_last_booking', \n",
    "                                                   index='dim_market', columns='dim_room_type', aggfunc='mean')\n",
    "impute_days_since_last_booking"
   ]
  },
  {
   "cell_type": "markdown",
   "metadata": {},
   "source": [
    "From the plots above, averaged days_since_last_booking and averaged price_booked_most_recent are quite different in different markets and different room types. These two features are good indicators to help predict whether the listing is booked. Let us impute these two features across sets of market and room type feature combinations. "
   ]
  },
  {
   "cell_type": "code",
   "execution_count": 28,
   "metadata": {
    "collapsed": true
   },
   "outputs": [],
   "source": [
    "data['price_booked_most_recent_imputed'] = data.apply(lambda x: impute_price_booked_most_recent.at[x['dim_market'], x['dim_room_type']] \n",
    "                                   if pd.isnull(x['price_booked_most_recent']) else x['price_booked_most_recent'], axis=1)\n",
    "\n",
    "data['days_since_last_booking_imputed'] = data.apply(lambda x: impute_days_since_last_booking.at[x['dim_market'], x['dim_room_type']] \n",
    "                                   if pd.isnull(x['days_since_last_booking']) else x['days_since_last_booking'], axis=1)"
   ]
  },
  {
   "cell_type": "code",
   "execution_count": null,
   "metadata": {
    "collapsed": true
   },
   "outputs": [],
   "source": []
  },
  {
   "cell_type": "markdown",
   "metadata": {},
   "source": [
    "## 1.5 Use on-hot encoding to convert categorical features into numerical values "
   ]
  },
  {
   "cell_type": "code",
   "execution_count": 29,
   "metadata": {
    "collapsed": true
   },
   "outputs": [],
   "source": [
    "categorical_features = ['dim_market', 'dim_room_type']\n",
    "data = pd.get_dummies(data, columns=categorical_features)"
   ]
  },
  {
   "cell_type": "code",
   "execution_count": 30,
   "metadata": {
    "collapsed": true
   },
   "outputs": [],
   "source": [
    "encoded_categorical_features = ['dim_market_Los Angeles', 'dim_market_Paris',\n",
    "       'dim_market_San Francisco', 'dim_room_type_Entire home/apt',\n",
    "       'dim_room_type_Private room', 'dim_room_type_Shared room']"
   ]
  },
  {
   "cell_type": "markdown",
   "metadata": {},
   "source": [
    "## Summary of Feature Exploration, Engineering and Cleaning\n",
    "* create new features: m_effective_daily_price_2, m_effective_daily_price_ratio, m_effective_daily_price_ratio_2, m_effective_daily_price_diff_pct, ds_month, is_weekend\n",
    "* impute missing values using different methods (imputation should be fitted only on training data but not testing data, so this operation is conducted after splitting data into training and testing) \n",
    "* report potential issue of negative effective daily price to engineering team "
   ]
  },
  {
   "cell_type": "markdown",
   "metadata": {},
   "source": [
    "# 2. Feature selection, model training, and model evaluation \n",
    "* decide what machine learning model to use and what performance metric is used for optimization. \n",
    "    * For simplicity, we consider logistic regression and random forest. Logistic regression usually serves as a benchmark. While logistic regression usually takes normalized input, there is no need to normalize features for random forest. \n",
    "    * for binary classification, f1-score is a nice metric for optimization. \n",
    "* decide what features are selected for model training\n",
    "    * study feature importance of existing features\n",
    "    * evaluate performance improvement of new created features\n",
    "    * evaluate performance improvement of different imputing method"
   ]
  },
  {
   "cell_type": "markdown",
   "metadata": {},
   "source": [
    "## 2.1 Only use existing features from input data"
   ]
  },
  {
   "cell_type": "code",
   "execution_count": 31,
   "metadata": {
    "collapsed": true
   },
   "outputs": [],
   "source": [
    "# select numerical features without including new created features \n",
    "numerical_features = ['dim_lat', 'dim_lng', 'm_effective_daily_price', 'm_pricing_cleaning_fee', 'dim_person_capacity',\n",
    "       'dim_is_instant_bookable', 'm_checkouts', 'm_reviews',\n",
    "       'days_since_last_booking', 'cancel_policy', 'image_quality_score',\n",
    "       'm_total_overall_rating', 'm_professional_pictures',\n",
    "       'dim_has_wireless_internet', 'ds_night_day_of_week',\n",
    "       'ds_night_day_of_year', 'ds_checkin_gap', 'ds_checkout_gap',\n",
    "       'occ_occupancy_plus_minus_7_ds_night',\n",
    "       'occ_occupancy_plus_minus_14_ds_night', 'occ_occupancy_trailing_90_ds',\n",
    "       'm_minimum_nights', 'm_maximum_nights', 'price_booked_most_recent',\n",
    "       'p2_p3_click_through_score', 'p3_inquiry_score',\n",
    "       'listing_m_listing_views_2_6_ds_night_decay',\n",
    "       'general_market_m_unique_searchers_0_6_ds_night',\n",
    "       'general_market_m_contacts_0_6_ds_night',\n",
    "       'general_market_m_reservation_requests_0_6_ds_night',\n",
    "       'general_market_m_is_booked_0_6_ds_night',\n",
    "       'm_available_listings_ds_night', 'kdt_score',\n",
    "       'r_kdt_listing_views_0_6_avg_n100', 'r_kdt_n_active_n100',\n",
    "       'r_kdt_n_available_n100', 'r_kdt_m_effective_daily_price_n100_p50',\n",
    "       'r_kdt_m_effective_daily_price_available_n100_p50',\n",
    "       'r_kdt_m_effective_daily_price_booked_n100_p50']"
   ]
  },
  {
   "cell_type": "code",
   "execution_count": 32,
   "metadata": {
    "collapsed": true
   },
   "outputs": [],
   "source": [
    "features = numerical_features + encoded_categorical_features"
   ]
  },
  {
   "cell_type": "code",
   "execution_count": 33,
   "metadata": {
    "collapsed": true
   },
   "outputs": [],
   "source": [
    "def split_train_test(data, features, normalized=False):\n",
    "    \"\"\"\n",
    "    split data into traing and test data set and impute missing values\n",
    "    \"\"\"\n",
    "    # save features into X and label into y\n",
    "    X = data[features].values # numpy array\n",
    "    y = data['dim_is_requested'].values # 1d numpy array\n",
    "    # split X, y into training and testing dataset\n",
    "    X_train, X_test, y_train, y_test = train_test_split(X.astype('float64'), y, test_size=0.25, random_state=1234)        \n",
    "    # in order to avoid data snooping, only use training data to fit Imputer\n",
    "    imp = Imputer(missing_values='NaN', strategy='mean', axis=0)\n",
    "    X_train = imp.fit_transform(X_train) \n",
    "    X_test = imp.transform(X_test)\n",
    "    \n",
    "    # normalize feature\n",
    "    if normalized:\n",
    "        print('normalize features')\n",
    "        standard_scaler = StandardScaler()\n",
    "        X_train = standard_scaler.fit_transform(X_train)\n",
    "        X_test = standard_scaler.transform(X_test)\n",
    "       \n",
    "#     print(X_train.shape, X_test.shape, y_train.shape, y_test.shape)\n",
    "    return X_train, X_test, y_train, y_test  "
   ]
  },
  {
   "cell_type": "code",
   "execution_count": 34,
   "metadata": {
    "collapsed": true
   },
   "outputs": [],
   "source": [
    "# logistic regression\n",
    "def train_lr(X_train, X_test, y_train, y_test):\n",
    "    '''use logistic regression as a benchmark'''\n",
    "    print('size of features in training data: {}'.format(X_train.shape))\n",
    "    clf = LogisticRegression(class_weight='balanced', random_state=7)\n",
    "    clf.fit(X_train, y_train)\n",
    "    \n",
    "    # evaluate the peformance of estimator on testing data\n",
    "    y_pred = clf.predict(X_test)\n",
    "    print('size of features in testing data: {}'.format(X_test.shape))\n",
    "    print('confusion matrix of testing data:')\n",
    "    print(confusion_matrix(y_test, y_pred, labels=[True, False]))\n",
    "    print('accuracy score: {}'.format(accuracy_score(y_test, y_pred)))\n",
    "    print('f1_score: {}'.format(f1_score(y_test, y_pred, labels=[True, False], pos_label=True)))\n",
    "    \n",
    "    return(clf)"
   ]
  },
  {
   "cell_type": "code",
   "execution_count": 35,
   "metadata": {
    "collapsed": false
   },
   "outputs": [
    {
     "name": "stdout",
     "output_type": "stream",
     "text": [
      "use logistical regression\n",
      "normalize features\n",
      "size of features in training data: (138209, 45)\n",
      "size of features in testing data: (46070, 45)\n",
      "confusion matrix of testing data:\n",
      "[[11421  3697]\n",
      " [ 7209 23743]]\n",
      "accuracy score: 0.7632732797916214\n",
      "f1_score: 0.6768401090434989\n"
     ]
    }
   ],
   "source": [
    "# need to normalize features for logistic regression \n",
    "print(\"use logistic regression\")\n",
    "X_train, X_test, y_train, y_test= split_train_test(data=data, features=features, normalized=True)\n",
    "lr = train_lr(X_train, X_test, y_train, y_test)"
   ]
  },
  {
   "cell_type": "code",
   "execution_count": null,
   "metadata": {
    "collapsed": true
   },
   "outputs": [],
   "source": []
  },
  {
   "cell_type": "code",
   "execution_count": 36,
   "metadata": {
    "collapsed": true
   },
   "outputs": [],
   "source": [
    "# random forest classifier \n",
    "def train_rfc(X_train, X_test, y_train, y_test, parameters, features):\n",
    "    '''\n",
    "    train random forest classifier and see the performance of model and feature importance, return the tuned model\n",
    "    '''\n",
    "    \n",
    "    print('size of features in training data: {}'.format(X_train.shape))\n",
    "    estimator = RandomForestClassifier(class_weight='balanced', random_state=7)\n",
    "    clf = GridSearchCV(estimator=estimator, param_grid=parameters, scoring='f1', n_jobs=-1, cv=3)\n",
    "    clf.fit(X_train, y_train)\n",
    "    print('best parameters: {}'.format(clf.best_params_))\n",
    "    print(\"\\nGrid scores on validation set:\")\n",
    "    means = clf.cv_results_['mean_test_score']\n",
    "    stds = clf.cv_results_['std_test_score']\n",
    "    for mean, std, params in zip(means, stds, clf.cv_results_['params']):\n",
    "        print(\"%0.3f (+/-%0.03f) for %r\"% (mean, std * 2, params))    \n",
    "    \n",
    "    # see feature importance\n",
    "    feature_importance = pd.DataFrame({'feature':features, 'importance':clf.best_estimator_.feature_importances_})\n",
    "    print('\\nfeature importance:')\n",
    "    print(feature_importance.sort_values(by='importance', ascending=False))\n",
    "    \n",
    "    # evaluate the peformance of estimator on testing data\n",
    "    y_pred = clf.predict(X_test)\n",
    "    print('\\nsize of features in testing data: {}'.format(X_test.shape))\n",
    "    print('confusion matrix of testing data:')\n",
    "    print(confusion_matrix(y_test, y_pred, labels=[True, False]))\n",
    "    print('accuracy score: {}'.format(accuracy_score(y_test, y_pred)))\n",
    "    print('f1_score: {}'.format(f1_score(y_test, y_pred, labels=[True, False], pos_label=True)))\n",
    "    \n",
    "    return(clf)"
   ]
  },
  {
   "cell_type": "code",
   "execution_count": 37,
   "metadata": {
    "collapsed": false
   },
   "outputs": [
    {
     "name": "stdout",
     "output_type": "stream",
     "text": [
      "use random forest\n",
      "size of features in training data: (138209, 45)\n",
      "best parameters: {'criterion': 'entropy', 'max_features': 'log2', 'n_estimators': 100, 'min_samples_split': 10}\n",
      "\n",
      "Grid scores on validation set:\n",
      "0.728 (+/-0.003) for {'criterion': 'gini', 'max_features': 'sqrt', 'n_estimators': 100, 'min_samples_split': 2}\n",
      "0.742 (+/-0.002) for {'criterion': 'gini', 'max_features': 'sqrt', 'n_estimators': 100, 'min_samples_split': 10}\n",
      "0.741 (+/-0.002) for {'criterion': 'gini', 'max_features': 'sqrt', 'n_estimators': 100, 'min_samples_split': 20}\n",
      "0.726 (+/-0.004) for {'criterion': 'gini', 'max_features': 'log2', 'n_estimators': 100, 'min_samples_split': 2}\n",
      "0.743 (+/-0.003) for {'criterion': 'gini', 'max_features': 'log2', 'n_estimators': 100, 'min_samples_split': 10}\n",
      "0.741 (+/-0.001) for {'criterion': 'gini', 'max_features': 'log2', 'n_estimators': 100, 'min_samples_split': 20}\n",
      "0.734 (+/-0.004) for {'criterion': 'entropy', 'max_features': 'sqrt', 'n_estimators': 100, 'min_samples_split': 2}\n",
      "0.746 (+/-0.004) for {'criterion': 'entropy', 'max_features': 'sqrt', 'n_estimators': 100, 'min_samples_split': 10}\n",
      "0.743 (+/-0.003) for {'criterion': 'entropy', 'max_features': 'sqrt', 'n_estimators': 100, 'min_samples_split': 20}\n",
      "0.734 (+/-0.004) for {'criterion': 'entropy', 'max_features': 'log2', 'n_estimators': 100, 'min_samples_split': 2}\n",
      "0.746 (+/-0.004) for {'criterion': 'entropy', 'max_features': 'log2', 'n_estimators': 100, 'min_samples_split': 10}\n",
      "0.742 (+/-0.001) for {'criterion': 'entropy', 'max_features': 'log2', 'n_estimators': 100, 'min_samples_split': 20}\n",
      "\n",
      "feature importance:\n",
      "                                              feature  importance\n",
      "2                             m_effective_daily_price    0.074821\n",
      "26         listing_m_listing_views_2_6_ds_night_decay    0.073468\n",
      "20                       occ_occupancy_trailing_90_ds    0.073401\n",
      "8                             days_since_last_booking    0.056028\n",
      "31                      m_available_listings_ds_night    0.036557\n",
      "23                           price_booked_most_recent    0.035496\n",
      "1                                             dim_lng    0.032289\n",
      "6                                         m_checkouts    0.031025\n",
      "11                             m_total_overall_rating    0.030932\n",
      "0                                             dim_lat    0.030451\n",
      "36             r_kdt_m_effective_daily_price_n100_p50    0.030171\n",
      "37   r_kdt_m_effective_daily_price_available_n100_p50    0.029373\n",
      "15                               ds_night_day_of_year    0.028992\n",
      "28             general_market_m_contacts_0_6_ds_night    0.028280\n",
      "33                   r_kdt_listing_views_0_6_avg_n100    0.027989\n",
      "27     general_market_m_unique_searchers_0_6_ds_night    0.026891\n",
      "10                                image_quality_score    0.026667\n",
      "38      r_kdt_m_effective_daily_price_booked_n100_p50    0.026648\n",
      "29  general_market_m_reservation_requests_0_6_ds_n...    0.026619\n",
      "32                                          kdt_score    0.024750\n",
      "34                                r_kdt_n_active_n100    0.024194\n",
      "7                                           m_reviews    0.023277\n",
      "35                             r_kdt_n_available_n100    0.023233\n",
      "3                              m_pricing_cleaning_fee    0.021144\n",
      "19               occ_occupancy_plus_minus_14_ds_night    0.019682\n",
      "21                                   m_minimum_nights    0.013796\n",
      "25                                   p3_inquiry_score    0.013698\n",
      "22                                   m_maximum_nights    0.013435\n",
      "24                          p2_p3_click_through_score    0.012861\n",
      "4                                 dim_person_capacity    0.012097\n",
      "14                               ds_night_day_of_week    0.009751\n",
      "16                                     ds_checkin_gap    0.009638\n",
      "18                occ_occupancy_plus_minus_7_ds_night    0.009624\n",
      "12                            m_professional_pictures    0.009423\n",
      "17                                    ds_checkout_gap    0.007695\n",
      "9                                       cancel_policy    0.006435\n",
      "30            general_market_m_is_booked_0_6_ds_night    0.003479\n",
      "40                                   dim_market_Paris    0.003270\n",
      "5                             dim_is_instant_bookable    0.003038\n",
      "43                         dim_room_type_Private room    0.002267\n",
      "42                      dim_room_type_Entire home/apt    0.002246\n",
      "13                          dim_has_wireless_internet    0.001871\n",
      "39                             dim_market_Los Angeles    0.001562\n",
      "41                           dim_market_San Francisco    0.000822\n",
      "44                          dim_room_type_Shared room    0.000611\n",
      "\n",
      "size of features in testing data: (46070, 45)\n",
      "confusion matrix of testing data:\n",
      "[[11585  3533]\n",
      " [ 3431 27521]]\n",
      "accuracy score: 0.8488387236813545\n",
      "f1_score: 0.7688989181655274\n"
     ]
    }
   ],
   "source": [
    "print('use random forest')\n",
    "X_train, X_test, y_train, y_test= split_train_test(data=data, features=features)\n",
    "parameters={'n_estimators': [100], 'max_features': ['sqrt', 'log2'], 'criterion': ['gini', 'entropy'], 'min_samples_split': [2, 10, 20]}\n",
    "rfc = train_rfc(X_train, X_test, y_train, y_test, parameters, features)"
   ]
  },
  {
   "cell_type": "markdown",
   "metadata": {},
   "source": [
    "## 2.2 Besides existing features from input data, add new created features\n",
    "I create a few new features: \n",
    "* m_effective_daily_price_2\n",
    "* m_effective_daily_price_ratio\n",
    "* m_effective_daily_price_ratio_2\n",
    "* m_effective_daily_price_diff_pct\n",
    "* ds_month\n",
    "* is_weekend\n",
    "\n",
    "Let us see if these new created features help improve prediction. "
   ]
  },
  {
   "cell_type": "code",
   "execution_count": 38,
   "metadata": {
    "collapsed": false
   },
   "outputs": [
    {
     "name": "stdout",
     "output_type": "stream",
     "text": [
      "size of features in training data: (138209, 51)\n",
      "best parameters: {'criterion': 'entropy', 'max_features': 'log2', 'n_estimators': 100, 'min_samples_split': 10}\n",
      "\n",
      "Grid scores on validation set:\n",
      "0.751 (+/-0.004) for {'criterion': 'gini', 'max_features': 'sqrt', 'n_estimators': 100, 'min_samples_split': 2}\n",
      "0.760 (+/-0.002) for {'criterion': 'gini', 'max_features': 'sqrt', 'n_estimators': 100, 'min_samples_split': 10}\n",
      "0.757 (+/-0.002) for {'criterion': 'gini', 'max_features': 'sqrt', 'n_estimators': 100, 'min_samples_split': 20}\n",
      "0.751 (+/-0.001) for {'criterion': 'gini', 'max_features': 'log2', 'n_estimators': 100, 'min_samples_split': 2}\n",
      "0.762 (+/-0.002) for {'criterion': 'gini', 'max_features': 'log2', 'n_estimators': 100, 'min_samples_split': 10}\n",
      "0.757 (+/-0.002) for {'criterion': 'gini', 'max_features': 'log2', 'n_estimators': 100, 'min_samples_split': 20}\n",
      "0.754 (+/-0.000) for {'criterion': 'entropy', 'max_features': 'sqrt', 'n_estimators': 100, 'min_samples_split': 2}\n",
      "0.761 (+/-0.003) for {'criterion': 'entropy', 'max_features': 'sqrt', 'n_estimators': 100, 'min_samples_split': 10}\n",
      "0.759 (+/-0.002) for {'criterion': 'entropy', 'max_features': 'sqrt', 'n_estimators': 100, 'min_samples_split': 20}\n",
      "0.756 (+/-0.005) for {'criterion': 'entropy', 'max_features': 'log2', 'n_estimators': 100, 'min_samples_split': 2}\n",
      "0.763 (+/-0.002) for {'criterion': 'entropy', 'max_features': 'log2', 'n_estimators': 100, 'min_samples_split': 10}\n",
      "0.759 (+/-0.002) for {'criterion': 'entropy', 'max_features': 'log2', 'n_estimators': 100, 'min_samples_split': 20}\n",
      "\n",
      "feature importance:\n",
      "                                              feature  importance\n",
      "46                      m_effective_daily_price_ratio    0.071847\n",
      "20                       occ_occupancy_trailing_90_ds    0.068400\n",
      "26         listing_m_listing_views_2_6_ds_night_decay    0.064517\n",
      "8                             days_since_last_booking    0.049959\n",
      "48                   m_effective_daily_price_diff_pct    0.043520\n",
      "47                    m_effective_daily_price_ratio_2    0.037873\n",
      "2                             m_effective_daily_price    0.035587\n",
      "31                      m_available_listings_ds_night    0.032327\n",
      "11                             m_total_overall_rating    0.026430\n",
      "45                          m_effective_daily_price_2    0.025973\n",
      "6                                         m_checkouts    0.025903\n",
      "1                                             dim_lng    0.025690\n",
      "0                                             dim_lat    0.025395\n",
      "28             general_market_m_contacts_0_6_ds_night    0.024533\n",
      "15                               ds_night_day_of_year    0.024419\n",
      "23                           price_booked_most_recent    0.024212\n",
      "29  general_market_m_reservation_requests_0_6_ds_n...    0.024157\n",
      "10                                image_quality_score    0.022295\n",
      "27     general_market_m_unique_searchers_0_6_ds_night    0.022111\n",
      "33                   r_kdt_listing_views_0_6_avg_n100    0.022072\n",
      "37   r_kdt_m_effective_daily_price_available_n100_p50    0.021489\n",
      "36             r_kdt_m_effective_daily_price_n100_p50    0.021478\n",
      "38      r_kdt_m_effective_daily_price_booked_n100_p50    0.021104\n",
      "32                                          kdt_score    0.020639\n",
      "7                                           m_reviews    0.020286\n",
      "35                             r_kdt_n_available_n100    0.019792\n",
      "34                                r_kdt_n_active_n100    0.019242\n",
      "3                              m_pricing_cleaning_fee    0.017353\n",
      "19               occ_occupancy_plus_minus_14_ds_night    0.014027\n",
      "21                                   m_minimum_nights    0.012140\n",
      "49                                           ds_month    0.011601\n",
      "22                                   m_maximum_nights    0.011183\n",
      "25                                   p3_inquiry_score    0.010900\n",
      "24                          p2_p3_click_through_score    0.009855\n",
      "4                                 dim_person_capacity    0.009806\n",
      "16                                     ds_checkin_gap    0.008232\n",
      "12                            m_professional_pictures    0.007793\n",
      "14                               ds_night_day_of_week    0.007698\n",
      "18                occ_occupancy_plus_minus_7_ds_night    0.007688\n",
      "17                                    ds_checkout_gap    0.006461\n",
      "9                                       cancel_policy    0.005303\n",
      "40                                   dim_market_Paris    0.003592\n",
      "30            general_market_m_is_booked_0_6_ds_night    0.002897\n",
      "5                             dim_is_instant_bookable    0.002770\n",
      "50                                         is_weekend    0.001864\n",
      "42                      dim_room_type_Entire home/apt    0.001726\n",
      "43                         dim_room_type_Private room    0.001622\n",
      "13                          dim_has_wireless_internet    0.001521\n",
      "39                             dim_market_Los Angeles    0.001412\n",
      "41                           dim_market_San Francisco    0.000793\n",
      "44                          dim_room_type_Shared room    0.000513\n",
      "\n",
      "size of features in testing data: (46070, 51)\n",
      "confusion matrix of testing data:\n",
      "[[11827  3291]\n",
      " [ 3102 27850]]\n",
      "accuracy score: 0.8612329064467116\n",
      "f1_score: 0.7872333344427065\n"
     ]
    }
   ],
   "source": [
    "new_features = ['m_effective_daily_price_2', 'm_effective_daily_price_ratio', \n",
    "                'm_effective_daily_price_ratio_2', 'm_effective_daily_price_diff_pct', \n",
    "                'ds_month', 'is_weekend']\n",
    "features = numerical_features + encoded_categorical_features + new_features\n",
    "X_train, X_test, y_train, y_test= split_train_test(data=data, features=features)\n",
    "parameters = {'n_estimators': [100], 'max_features': ['sqrt', 'log2'], 'criterion': ['gini', 'entropy'], 'min_samples_split': [2, 10, 20]}\n",
    "rfc = train_rfc(X_train, X_test, y_train, y_test, parameters, features)"
   ]
  },
  {
   "cell_type": "code",
   "execution_count": 39,
   "metadata": {
    "collapsed": false
   },
   "outputs": [
    {
     "data": {
      "image/png": "[encoded data removed]",
      "text/plain": [
       "<matplotlib.figure.Figure at 0x1a1a3986d8>"
      ]
     },
     "metadata": {},
     "output_type": "display_data"
    }
   ],
   "source": [
    "## plot ROC curve of random forest classifier \n",
    "fpr, tpr, thresholds = roc_curve(y_score=rfc.predict_proba(X_test)[:, 1], y_true=y_test)\n",
    "roc_auc = auc(fpr, tpr)\n",
    "\n",
    "plt.figure()\n",
    "plt.plot(fpr, tpr, lw=2, color='darkorange', label='ROC curve (area = %0.4f)' % roc_auc)\n",
    "plt.plot([0, 1], [0, 1], color='navy', lw=1, linestyle='--')\n",
    "plt.xlim([0.0, 1.0])\n",
    "plt.ylim([0.0, 1.05])\n",
    "plt.xlabel('False Positive Rate')\n",
    "plt.ylabel('True Positive Rate')\n",
    "plt.title('Receiver operating characteristic from Random Forest')\n",
    "plt.legend(loc=\"lower right\")\n",
    "plt.show()"
   ]
  },
  {
   "cell_type": "code",
   "execution_count": null,
   "metadata": {
    "collapsed": true
   },
   "outputs": [],
   "source": []
  },
  {
   "cell_type": "markdown",
   "metadata": {},
   "source": [
    "## 2.3 Use advanced imputation method for price_booked_most_recent and days_since_last_booking and see if there is an performance improvement"
   ]
  },
  {
   "cell_type": "code",
   "execution_count": 40,
   "metadata": {
    "collapsed": true
   },
   "outputs": [],
   "source": [
    "features.remove('days_since_last_booking')\n",
    "features.append('days_since_last_booking_imputed')\n",
    "features.remove('price_booked_most_recent')\n",
    "features.append('price_booked_most_recent_imputed')\n",
    "# features"
   ]
  },
  {
   "cell_type": "code",
   "execution_count": 41,
   "metadata": {
    "collapsed": false
   },
   "outputs": [
    {
     "name": "stdout",
     "output_type": "stream",
     "text": [
      "size of features in training data: (138209, 51)\n",
      "best parameters: {'criterion': 'entropy', 'max_features': 'sqrt', 'n_estimators': 100, 'min_samples_split': 10}\n",
      "\n",
      "Grid scores on validation set:\n",
      "0.750 (+/-0.002) for {'criterion': 'gini', 'max_features': 'sqrt', 'n_estimators': 100, 'min_samples_split': 2}\n",
      "0.759 (+/-0.001) for {'criterion': 'gini', 'max_features': 'sqrt', 'n_estimators': 100, 'min_samples_split': 10}\n",
      "0.757 (+/-0.003) for {'criterion': 'gini', 'max_features': 'sqrt', 'n_estimators': 100, 'min_samples_split': 20}\n",
      "0.751 (+/-0.001) for {'criterion': 'gini', 'max_features': 'log2', 'n_estimators': 100, 'min_samples_split': 2}\n",
      "0.761 (+/-0.002) for {'criterion': 'gini', 'max_features': 'log2', 'n_estimators': 100, 'min_samples_split': 10}\n",
      "0.756 (+/-0.001) for {'criterion': 'gini', 'max_features': 'log2', 'n_estimators': 100, 'min_samples_split': 20}\n",
      "0.754 (+/-0.002) for {'criterion': 'entropy', 'max_features': 'sqrt', 'n_estimators': 100, 'min_samples_split': 2}\n",
      "0.763 (+/-0.003) for {'criterion': 'entropy', 'max_features': 'sqrt', 'n_estimators': 100, 'min_samples_split': 10}\n",
      "0.758 (+/-0.002) for {'criterion': 'entropy', 'max_features': 'sqrt', 'n_estimators': 100, 'min_samples_split': 20}\n",
      "0.755 (+/-0.002) for {'criterion': 'entropy', 'max_features': 'log2', 'n_estimators': 100, 'min_samples_split': 2}\n",
      "0.762 (+/-0.001) for {'criterion': 'entropy', 'max_features': 'log2', 'n_estimators': 100, 'min_samples_split': 10}\n",
      "0.759 (+/-0.001) for {'criterion': 'entropy', 'max_features': 'log2', 'n_estimators': 100, 'min_samples_split': 20}\n",
      "\n",
      "feature importance:\n",
      "                                              feature  importance\n",
      "44                      m_effective_daily_price_ratio    0.077165\n",
      "19                       occ_occupancy_trailing_90_ds    0.071269\n",
      "24         listing_m_listing_views_2_6_ds_night_decay    0.067518\n",
      "49                    days_since_last_booking_imputed    0.055933\n",
      "46                   m_effective_daily_price_diff_pct    0.045977\n",
      "45                    m_effective_daily_price_ratio_2    0.037848\n",
      "29                      m_available_listings_ds_night    0.033230\n",
      "2                             m_effective_daily_price    0.033127\n",
      "10                             m_total_overall_rating    0.026630\n",
      "6                                         m_checkouts    0.026413\n",
      "1                                             dim_lng    0.025854\n",
      "0                                             dim_lat    0.025623\n",
      "43                          m_effective_daily_price_2    0.024750\n",
      "26             general_market_m_contacts_0_6_ds_night    0.024630\n",
      "14                               ds_night_day_of_year    0.024455\n",
      "9                                 image_quality_score    0.023159\n",
      "25     general_market_m_unique_searchers_0_6_ds_night    0.022889\n",
      "27  general_market_m_reservation_requests_0_6_ds_n...    0.022764\n",
      "31                   r_kdt_listing_views_0_6_avg_n100    0.021905\n",
      "30                                          kdt_score    0.021586\n",
      "36      r_kdt_m_effective_daily_price_booked_n100_p50    0.020448\n",
      "34             r_kdt_m_effective_daily_price_n100_p50    0.020146\n",
      "35   r_kdt_m_effective_daily_price_available_n100_p50    0.020095\n",
      "33                             r_kdt_n_available_n100    0.019563\n",
      "50                   price_booked_most_recent_imputed    0.019281\n",
      "32                                r_kdt_n_active_n100    0.019055\n",
      "7                                           m_reviews    0.017245\n",
      "3                              m_pricing_cleaning_fee    0.017213\n",
      "20                                   m_minimum_nights    0.012415\n",
      "18               occ_occupancy_plus_minus_14_ds_night    0.012298\n",
      "23                                   p3_inquiry_score    0.011061\n",
      "47                                           ds_month    0.010648\n",
      "21                                   m_maximum_nights    0.010462\n",
      "22                          p2_p3_click_through_score    0.009714\n",
      "4                                 dim_person_capacity    0.009297\n",
      "17                occ_occupancy_plus_minus_7_ds_night    0.008495\n",
      "15                                     ds_checkin_gap    0.008325\n",
      "11                            m_professional_pictures    0.007868\n",
      "13                               ds_night_day_of_week    0.007258\n",
      "16                                    ds_checkout_gap    0.006221\n",
      "8                                       cancel_policy    0.004612\n",
      "28            general_market_m_is_booked_0_6_ds_night    0.002789\n",
      "38                                   dim_market_Paris    0.002738\n",
      "5                             dim_is_instant_bookable    0.002362\n",
      "48                                         is_weekend    0.001578\n",
      "12                          dim_has_wireless_internet    0.001452\n",
      "41                         dim_room_type_Private room    0.001228\n",
      "40                      dim_room_type_Entire home/apt    0.001215\n",
      "37                             dim_market_Los Angeles    0.001117\n",
      "39                           dim_market_San Francisco    0.000640\n",
      "42                          dim_room_type_Shared room    0.000437\n",
      "\n",
      "size of features in testing data: (46070, 51)\n",
      "confusion matrix of testing data:\n",
      "[[11755  3363]\n",
      " [ 3135 27817]]\n",
      "accuracy score: 0.8589537660082484\n",
      "f1_score: 0.7834577446014396\n"
     ]
    }
   ],
   "source": [
    "X_train, X_test, y_train, y_test= split_train_test(data=data, features=features)\n",
    "parameters = {'n_estimators': [100], 'max_features': ['sqrt', 'log2'], 'criterion': ['gini', 'entropy'], 'min_samples_split': [2, 10, 20]}\n",
    "rfc = train_rfc(X_train, X_test, y_train, y_test, parameters, features)"
   ]
  },
  {
   "cell_type": "markdown",
   "metadata": {},
   "source": [
    "Looks like this advanced imputation does not help that much. "
   ]
  },
  {
   "cell_type": "markdown",
   "metadata": {
    "collapsed": true
   },
   "source": [
    "# 3. Summary\n",
    "\n",
    "## Model performance\n",
    "* split data into training and testing data. Never look at the testing data when optimizing any model. Use the training data with cross validation to find the best hyper-parameters of any machine learning model. Once the model is optimized, we can make prediction on testing data to evaluate the generalization error. \n",
    "* random forest performs better than logistic regression. \n",
    "* prediction of best random forest classifier on testing data: <font color='red'> f1-score=0.787 </font>, accuracy=0.861 with AUC=0.929. \n",
    "* new created features, especially m_effective_daily_price_ratio, help increase f1-score from 0.769 to 0.787. \n",
    "* If computing resource and performance is not an issue, we can always combine predictions from different classifiers, and use stacking/ensemble method, which take averaged predictions from different classifiers as final prediction.\n",
    "\n",
    "\n",
    "## Findings to improve Airbnb' marketplace\n",
    "* having a <font color='red'> competitive listing price </font> is critical for a booking. In order to maximize the expected income of host, airbnb needs to emphasize the importance of listing price to hosts and convince them to turn on Smart Pricing feature. Airbnb can also use this prediction to send a reminder to hosts when the listing price is too high to be booked. \n",
    "* airbnb can incorporate this prediction into <font color='red'> Smart Pricing </font> and suggest a better price for listing in order to maximize the expected income of host. \n",
    "* listing_m_listing_views_2_6_ds_night_decay is a critical feature for this prediction, which is defined as average listing views in the past 2 days to 6 before ds. Airbnb should inform hosts about the importance of <font color='red'> attracting views from potential guest </font> . Any way that will increase the ranking of a listing in airbnb's searching algorithm should be suggested to hosts. \n",
    "* m_total_overall_rating is an important feature for prediction. Airbnb should encourage guests to leave <font color='red'> rating and review </font> by providing some rewards, such as coupon for next booking.  \n",
    "\n",
    "## Communicate with engineering team\n",
    "* report potential issue of <font color='red'> negative effective daily price </font> to engineering team\n",
    "* suggest that p2_p3_click_through_score should be defined as historical frequency of clicking <font color='red'> from different guests </font> on a particular listing from search results\n",
    "\n",
    "## What additional features might help prediction\n",
    "* use quantity and quality of reviews from past guests. Reviews left by guests could be positive or negative and only good reviews are essential to represent good service. Hence, in addition to total number of reviews, total number of <font color='red'> five-star </font> reviews and average rating should be better features.\n",
    "* instead of m_total_overall_rating (number of overall ratings left by guests), average ratings should be better. or even rating under different subcategories.\n",
    "* response rate and response time: how quickly a host responds to requests.\n",
    "* rejections and rejection rate: For hosts choosing to use Request to Book, record how many guests make a request to book and how many of request are denied.\n",
    "* number of guests who add the listing into their wish-list. When guests add the listing to their wish-list, it doe help the listing's search ranking, which increases the possibility of booking. \n",
    "* a score which indicates how well a host describes the space of the listing: whether title and description is attractive, detailed, and informative.\n",
    "* whether there is a listing title and how good it is \n",
    "* information of a host: whether there is a profile pic, whether the host is verified and how many verifications, how the host describes himself or herself. \n",
    "* amenities besides wifi, such as parking information  \n",
    "* house rules: number of house rules \n",
    "* whether the host is verified as a superhost or not by airbnb. Airbnb gives guests the option to filter their search results to only display Superhosts.  \n",
    "* whether the listing is shared or advertised on social media or website.\n",
    "* conversion rate (CR) – what percentage of the prospective guests that land on the listing actually make a booking in the history\n",
    "* NPS, or the “Net Promoter Score”. Airbnb asks guests “How likely are you to recommend Airbnb to a friend?”, which is a question called “likelihood to recommend”."
   ]
  },
  {
   "cell_type": "code",
   "execution_count": null,
   "metadata": {
    "collapsed": true
   },
   "outputs": [],
   "source": []
  },
  {
   "cell_type": "code",
   "execution_count": null,
   "metadata": {
    "collapsed": true
   },
   "outputs": [],
   "source": []
  },
  {
   "cell_type": "code",
   "execution_count": null,
   "metadata": {
    "collapsed": true
   },
   "outputs": [],
   "source": []
  }
 ],
 "metadata": {
  "kernelspec": {
   "display_name": "Python 3",
   "language": "python",
   "name": "python3"
  },
  "language_info": {
   "codemirror_mode": {
    "name": "ipython",
    "version": 3
   },
   "file_extension": ".py",
   "mimetype": "text/x-python",
   "name": "python",
   "nbconvert_exporter": "python",
   "pygments_lexer": "ipython3",
   "version": "3.6.0"
  }
 },
 "nbformat": 4,
 "nbformat_minor": 2
}
